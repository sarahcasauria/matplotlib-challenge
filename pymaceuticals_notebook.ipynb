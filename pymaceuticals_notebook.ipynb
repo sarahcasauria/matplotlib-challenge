{
 "cells": [
  {
   "cell_type": "markdown",
   "metadata": {},
   "source": [
    "# Observations and Insights "
   ]
  },
  {
   "cell_type": "markdown",
   "metadata": {},
   "source": [
    "## Observation 1\n",
    "For the drug regimen Capomulin, there is a strong positive correlation between average tumour volume and weight of the mouse, meaning that the more the mouse weighs, the more likely the average tumour volume for the mouse will be higher as well.\n",
    "\n",
    "## Observation 2\n",
    "The treatment Ramicane had the lowest median tumour size at the end timepoints for each mouse, therefore it can be assumed that Ramicane was the most effective treatment.\n",
    "\n",
    "## Observation 3\n",
    "For Mouse s185, who underwent treatment with Capomulin, their tumor volume decreased by nearly 50% (45.0 at timepoint 0 to 23.3 at timepoint 45)."
   ]
  },
  {
   "cell_type": "code",
   "execution_count": 29,
   "metadata": {},
   "outputs": [
    {
     "data": {
      "text/html": [
       "<div>\n",
       "<style scoped>\n",
       "    .dataframe tbody tr th:only-of-type {\n",
       "        vertical-align: middle;\n",
       "    }\n",
       "\n",
       "    .dataframe tbody tr th {\n",
       "        vertical-align: top;\n",
       "    }\n",
       "\n",
       "    .dataframe thead th {\n",
       "        text-align: right;\n",
       "    }\n",
       "</style>\n",
       "<table border=\"1\" class=\"dataframe\">\n",
       "  <thead>\n",
       "    <tr style=\"text-align: right;\">\n",
       "      <th></th>\n",
       "      <th>Mouse ID</th>\n",
       "      <th>Drug Regimen</th>\n",
       "      <th>Sex</th>\n",
       "      <th>Age_months</th>\n",
       "      <th>Weight (g)</th>\n",
       "      <th>Timepoint</th>\n",
       "      <th>Tumor Volume (mm3)</th>\n",
       "      <th>Metastatic Sites</th>\n",
       "    </tr>\n",
       "  </thead>\n",
       "  <tbody>\n",
       "    <tr>\n",
       "      <th>0</th>\n",
       "      <td>k403</td>\n",
       "      <td>Ramicane</td>\n",
       "      <td>Male</td>\n",
       "      <td>21</td>\n",
       "      <td>16</td>\n",
       "      <td>0</td>\n",
       "      <td>45.000000</td>\n",
       "      <td>0</td>\n",
       "    </tr>\n",
       "    <tr>\n",
       "      <th>1</th>\n",
       "      <td>k403</td>\n",
       "      <td>Ramicane</td>\n",
       "      <td>Male</td>\n",
       "      <td>21</td>\n",
       "      <td>16</td>\n",
       "      <td>5</td>\n",
       "      <td>38.825898</td>\n",
       "      <td>0</td>\n",
       "    </tr>\n",
       "    <tr>\n",
       "      <th>2</th>\n",
       "      <td>k403</td>\n",
       "      <td>Ramicane</td>\n",
       "      <td>Male</td>\n",
       "      <td>21</td>\n",
       "      <td>16</td>\n",
       "      <td>10</td>\n",
       "      <td>35.014271</td>\n",
       "      <td>1</td>\n",
       "    </tr>\n",
       "    <tr>\n",
       "      <th>3</th>\n",
       "      <td>k403</td>\n",
       "      <td>Ramicane</td>\n",
       "      <td>Male</td>\n",
       "      <td>21</td>\n",
       "      <td>16</td>\n",
       "      <td>15</td>\n",
       "      <td>34.223992</td>\n",
       "      <td>1</td>\n",
       "    </tr>\n",
       "    <tr>\n",
       "      <th>4</th>\n",
       "      <td>k403</td>\n",
       "      <td>Ramicane</td>\n",
       "      <td>Male</td>\n",
       "      <td>21</td>\n",
       "      <td>16</td>\n",
       "      <td>20</td>\n",
       "      <td>32.997729</td>\n",
       "      <td>1</td>\n",
       "    </tr>\n",
       "  </tbody>\n",
       "</table>\n",
       "</div>"
      ],
      "text/plain": [
       "  Mouse ID Drug Regimen   Sex  Age_months  Weight (g)  Timepoint  \\\n",
       "0     k403     Ramicane  Male          21          16          0   \n",
       "1     k403     Ramicane  Male          21          16          5   \n",
       "2     k403     Ramicane  Male          21          16         10   \n",
       "3     k403     Ramicane  Male          21          16         15   \n",
       "4     k403     Ramicane  Male          21          16         20   \n",
       "\n",
       "   Tumor Volume (mm3)  Metastatic Sites  \n",
       "0           45.000000                 0  \n",
       "1           38.825898                 0  \n",
       "2           35.014271                 1  \n",
       "3           34.223992                 1  \n",
       "4           32.997729                 1  "
      ]
     },
     "execution_count": 29,
     "metadata": {},
     "output_type": "execute_result"
    }
   ],
   "source": [
    "# Dependencies and Setup\n",
    "import matplotlib.pyplot as plt\n",
    "import pandas as pd\n",
    "from scipy.stats import linregress\n",
    "import scipy.stats as st\n",
    "import numpy as np\n",
    "\n",
    "# Study data files\n",
    "mouse_metadata_path = \"data/Mouse_metadata.csv\"\n",
    "study_results_path = \"data/Study_results.csv\"\n",
    "\n",
    "# Read the mouse data and the study results\n",
    "mouse_metadata = pd.read_csv(mouse_metadata_path)\n",
    "study_results = pd.read_csv(study_results_path)\n",
    "\n",
    "# Combine the data into a single dataset\n",
    "study_data = pd.merge(mouse_metadata, study_results, on = ['Mouse ID'], how = 'outer')\n",
    "# Display the data table for preview\n",
    "study_data.head()"
   ]
  },
  {
   "cell_type": "markdown",
   "metadata": {},
   "source": [
    "Display the number of unique mice IDs in the data, and then check for any mouse ID with duplicate time points. Display the data associated with that mouse ID, and then create a new DataFrame where this data is removed. Use this cleaned DataFrame for the remaining step."
   ]
  },
  {
   "cell_type": "code",
   "execution_count": 2,
   "metadata": {},
   "outputs": [
    {
     "name": "stdout",
     "output_type": "stream",
     "text": [
      " Number of mice is 249\n"
     ]
    }
   ],
   "source": [
    "# Checking the number of mice.\n",
    "#Count number of mice based on unique mouse ID\n",
    "num_mice = int(len(study_data[\"Mouse ID\"].unique()))\n",
    "print(f' Number of mice is {num_mice}')"
   ]
  },
  {
   "cell_type": "code",
   "execution_count": 3,
   "metadata": {},
   "outputs": [
    {
     "data": {
      "text/plain": [
       "array(['g989'], dtype=object)"
      ]
     },
     "execution_count": 3,
     "metadata": {},
     "output_type": "execute_result"
    }
   ],
   "source": [
    "# Getting the duplicate mice by ID number that shows up for Mouse ID and Timepoint. \n",
    "dup_mice = study_data[study_data.duplicated(subset = ['Mouse ID', 'Timepoint'], keep = False)]\n",
    "\n",
    "dup_mice_id = dup_mice['Mouse ID'].unique()\n",
    "dup_mice_id"
   ]
  },
  {
   "cell_type": "code",
   "execution_count": 4,
   "metadata": {},
   "outputs": [
    {
     "data": {
      "text/html": [
       "<div>\n",
       "<style scoped>\n",
       "    .dataframe tbody tr th:only-of-type {\n",
       "        vertical-align: middle;\n",
       "    }\n",
       "\n",
       "    .dataframe tbody tr th {\n",
       "        vertical-align: top;\n",
       "    }\n",
       "\n",
       "    .dataframe thead th {\n",
       "        text-align: right;\n",
       "    }\n",
       "</style>\n",
       "<table border=\"1\" class=\"dataframe\">\n",
       "  <thead>\n",
       "    <tr style=\"text-align: right;\">\n",
       "      <th></th>\n",
       "      <th>Mouse ID</th>\n",
       "      <th>Drug Regimen</th>\n",
       "      <th>Sex</th>\n",
       "      <th>Age_months</th>\n",
       "      <th>Weight (g)</th>\n",
       "      <th>Timepoint</th>\n",
       "      <th>Tumor Volume (mm3)</th>\n",
       "      <th>Metastatic Sites</th>\n",
       "    </tr>\n",
       "  </thead>\n",
       "  <tbody>\n",
       "    <tr>\n",
       "      <th>908</th>\n",
       "      <td>g989</td>\n",
       "      <td>Propriva</td>\n",
       "      <td>Female</td>\n",
       "      <td>21</td>\n",
       "      <td>26</td>\n",
       "      <td>0</td>\n",
       "      <td>45.000000</td>\n",
       "      <td>0</td>\n",
       "    </tr>\n",
       "    <tr>\n",
       "      <th>909</th>\n",
       "      <td>g989</td>\n",
       "      <td>Propriva</td>\n",
       "      <td>Female</td>\n",
       "      <td>21</td>\n",
       "      <td>26</td>\n",
       "      <td>0</td>\n",
       "      <td>45.000000</td>\n",
       "      <td>0</td>\n",
       "    </tr>\n",
       "    <tr>\n",
       "      <th>910</th>\n",
       "      <td>g989</td>\n",
       "      <td>Propriva</td>\n",
       "      <td>Female</td>\n",
       "      <td>21</td>\n",
       "      <td>26</td>\n",
       "      <td>5</td>\n",
       "      <td>48.786801</td>\n",
       "      <td>0</td>\n",
       "    </tr>\n",
       "    <tr>\n",
       "      <th>911</th>\n",
       "      <td>g989</td>\n",
       "      <td>Propriva</td>\n",
       "      <td>Female</td>\n",
       "      <td>21</td>\n",
       "      <td>26</td>\n",
       "      <td>5</td>\n",
       "      <td>47.570392</td>\n",
       "      <td>0</td>\n",
       "    </tr>\n",
       "    <tr>\n",
       "      <th>912</th>\n",
       "      <td>g989</td>\n",
       "      <td>Propriva</td>\n",
       "      <td>Female</td>\n",
       "      <td>21</td>\n",
       "      <td>26</td>\n",
       "      <td>10</td>\n",
       "      <td>51.745156</td>\n",
       "      <td>0</td>\n",
       "    </tr>\n",
       "    <tr>\n",
       "      <th>913</th>\n",
       "      <td>g989</td>\n",
       "      <td>Propriva</td>\n",
       "      <td>Female</td>\n",
       "      <td>21</td>\n",
       "      <td>26</td>\n",
       "      <td>10</td>\n",
       "      <td>49.880528</td>\n",
       "      <td>0</td>\n",
       "    </tr>\n",
       "    <tr>\n",
       "      <th>914</th>\n",
       "      <td>g989</td>\n",
       "      <td>Propriva</td>\n",
       "      <td>Female</td>\n",
       "      <td>21</td>\n",
       "      <td>26</td>\n",
       "      <td>15</td>\n",
       "      <td>51.325852</td>\n",
       "      <td>1</td>\n",
       "    </tr>\n",
       "    <tr>\n",
       "      <th>915</th>\n",
       "      <td>g989</td>\n",
       "      <td>Propriva</td>\n",
       "      <td>Female</td>\n",
       "      <td>21</td>\n",
       "      <td>26</td>\n",
       "      <td>15</td>\n",
       "      <td>53.442020</td>\n",
       "      <td>0</td>\n",
       "    </tr>\n",
       "    <tr>\n",
       "      <th>916</th>\n",
       "      <td>g989</td>\n",
       "      <td>Propriva</td>\n",
       "      <td>Female</td>\n",
       "      <td>21</td>\n",
       "      <td>26</td>\n",
       "      <td>20</td>\n",
       "      <td>55.326122</td>\n",
       "      <td>1</td>\n",
       "    </tr>\n",
       "    <tr>\n",
       "      <th>917</th>\n",
       "      <td>g989</td>\n",
       "      <td>Propriva</td>\n",
       "      <td>Female</td>\n",
       "      <td>21</td>\n",
       "      <td>26</td>\n",
       "      <td>20</td>\n",
       "      <td>54.657650</td>\n",
       "      <td>1</td>\n",
       "    </tr>\n",
       "  </tbody>\n",
       "</table>\n",
       "</div>"
      ],
      "text/plain": [
       "    Mouse ID Drug Regimen     Sex  Age_months  Weight (g)  Timepoint  \\\n",
       "908     g989     Propriva  Female          21          26          0   \n",
       "909     g989     Propriva  Female          21          26          0   \n",
       "910     g989     Propriva  Female          21          26          5   \n",
       "911     g989     Propriva  Female          21          26          5   \n",
       "912     g989     Propriva  Female          21          26         10   \n",
       "913     g989     Propriva  Female          21          26         10   \n",
       "914     g989     Propriva  Female          21          26         15   \n",
       "915     g989     Propriva  Female          21          26         15   \n",
       "916     g989     Propriva  Female          21          26         20   \n",
       "917     g989     Propriva  Female          21          26         20   \n",
       "\n",
       "     Tumor Volume (mm3)  Metastatic Sites  \n",
       "908           45.000000                 0  \n",
       "909           45.000000                 0  \n",
       "910           48.786801                 0  \n",
       "911           47.570392                 0  \n",
       "912           51.745156                 0  \n",
       "913           49.880528                 0  \n",
       "914           51.325852                 1  \n",
       "915           53.442020                 0  \n",
       "916           55.326122                 1  \n",
       "917           54.657650                 1  "
      ]
     },
     "execution_count": 4,
     "metadata": {},
     "output_type": "execute_result"
    }
   ],
   "source": [
    "# Optional: Get all the data for the duplicate mouse ID. \n",
    "dup_mice"
   ]
  },
  {
   "cell_type": "code",
   "execution_count": 5,
   "metadata": {},
   "outputs": [
    {
     "data": {
      "text/html": [
       "<div>\n",
       "<style scoped>\n",
       "    .dataframe tbody tr th:only-of-type {\n",
       "        vertical-align: middle;\n",
       "    }\n",
       "\n",
       "    .dataframe tbody tr th {\n",
       "        vertical-align: top;\n",
       "    }\n",
       "\n",
       "    .dataframe thead th {\n",
       "        text-align: right;\n",
       "    }\n",
       "</style>\n",
       "<table border=\"1\" class=\"dataframe\">\n",
       "  <thead>\n",
       "    <tr style=\"text-align: right;\">\n",
       "      <th></th>\n",
       "      <th>Mouse ID</th>\n",
       "      <th>Drug Regimen</th>\n",
       "      <th>Sex</th>\n",
       "      <th>Age_months</th>\n",
       "      <th>Weight (g)</th>\n",
       "      <th>Timepoint</th>\n",
       "      <th>Tumor Volume (mm3)</th>\n",
       "      <th>Metastatic Sites</th>\n",
       "    </tr>\n",
       "  </thead>\n",
       "  <tbody>\n",
       "    <tr>\n",
       "      <th>0</th>\n",
       "      <td>k403</td>\n",
       "      <td>Ramicane</td>\n",
       "      <td>Male</td>\n",
       "      <td>21</td>\n",
       "      <td>16</td>\n",
       "      <td>0</td>\n",
       "      <td>45.000000</td>\n",
       "      <td>0</td>\n",
       "    </tr>\n",
       "    <tr>\n",
       "      <th>1</th>\n",
       "      <td>k403</td>\n",
       "      <td>Ramicane</td>\n",
       "      <td>Male</td>\n",
       "      <td>21</td>\n",
       "      <td>16</td>\n",
       "      <td>5</td>\n",
       "      <td>38.825898</td>\n",
       "      <td>0</td>\n",
       "    </tr>\n",
       "    <tr>\n",
       "      <th>2</th>\n",
       "      <td>k403</td>\n",
       "      <td>Ramicane</td>\n",
       "      <td>Male</td>\n",
       "      <td>21</td>\n",
       "      <td>16</td>\n",
       "      <td>10</td>\n",
       "      <td>35.014271</td>\n",
       "      <td>1</td>\n",
       "    </tr>\n",
       "    <tr>\n",
       "      <th>3</th>\n",
       "      <td>k403</td>\n",
       "      <td>Ramicane</td>\n",
       "      <td>Male</td>\n",
       "      <td>21</td>\n",
       "      <td>16</td>\n",
       "      <td>15</td>\n",
       "      <td>34.223992</td>\n",
       "      <td>1</td>\n",
       "    </tr>\n",
       "    <tr>\n",
       "      <th>4</th>\n",
       "      <td>k403</td>\n",
       "      <td>Ramicane</td>\n",
       "      <td>Male</td>\n",
       "      <td>21</td>\n",
       "      <td>16</td>\n",
       "      <td>20</td>\n",
       "      <td>32.997729</td>\n",
       "      <td>1</td>\n",
       "    </tr>\n",
       "  </tbody>\n",
       "</table>\n",
       "</div>"
      ],
      "text/plain": [
       "  Mouse ID Drug Regimen   Sex  Age_months  Weight (g)  Timepoint  \\\n",
       "0     k403     Ramicane  Male          21          16          0   \n",
       "1     k403     Ramicane  Male          21          16          5   \n",
       "2     k403     Ramicane  Male          21          16         10   \n",
       "3     k403     Ramicane  Male          21          16         15   \n",
       "4     k403     Ramicane  Male          21          16         20   \n",
       "\n",
       "   Tumor Volume (mm3)  Metastatic Sites  \n",
       "0           45.000000                 0  \n",
       "1           38.825898                 0  \n",
       "2           35.014271                 1  \n",
       "3           34.223992                 1  \n",
       "4           32.997729                 1  "
      ]
     },
     "execution_count": 5,
     "metadata": {},
     "output_type": "execute_result"
    }
   ],
   "source": [
    "# Create a clean DataFrame by dropping the duplicate mouse by its ID.\n",
    "#Using curly hyphen, it inverts the .isin function of Pandas\n",
    "cleaned_data = study_data[~study_data[\"Mouse ID\"].isin(dup_mice_id)]\n",
    "\n",
    "cleaned_data.head()"
   ]
  },
  {
   "cell_type": "code",
   "execution_count": 6,
   "metadata": {},
   "outputs": [
    {
     "name": "stdout",
     "output_type": "stream",
     "text": [
      "248\n"
     ]
    }
   ],
   "source": [
    "# Checking the number of mice in the clean DataFrame.\n",
    "print(len(cleaned_data[\"Mouse ID\"].unique()))"
   ]
  },
  {
   "cell_type": "markdown",
   "metadata": {},
   "source": [
    "## Summary Statistics"
   ]
  },
  {
   "cell_type": "code",
   "execution_count": 7,
   "metadata": {},
   "outputs": [
    {
     "data": {
      "text/html": [
       "<div>\n",
       "<style scoped>\n",
       "    .dataframe tbody tr th:only-of-type {\n",
       "        vertical-align: middle;\n",
       "    }\n",
       "\n",
       "    .dataframe tbody tr th {\n",
       "        vertical-align: top;\n",
       "    }\n",
       "\n",
       "    .dataframe thead th {\n",
       "        text-align: right;\n",
       "    }\n",
       "</style>\n",
       "<table border=\"1\" class=\"dataframe\">\n",
       "  <thead>\n",
       "    <tr style=\"text-align: right;\">\n",
       "      <th></th>\n",
       "      <th>Mean</th>\n",
       "      <th>Median</th>\n",
       "      <th>Variance</th>\n",
       "      <th>Standard Deviation</th>\n",
       "      <th>SEM</th>\n",
       "    </tr>\n",
       "    <tr>\n",
       "      <th>Drug Regimen</th>\n",
       "      <th></th>\n",
       "      <th></th>\n",
       "      <th></th>\n",
       "      <th></th>\n",
       "      <th></th>\n",
       "    </tr>\n",
       "  </thead>\n",
       "  <tbody>\n",
       "    <tr>\n",
       "      <th>Capomulin</th>\n",
       "      <td>40.675741</td>\n",
       "      <td>41.557809</td>\n",
       "      <td>24.947764</td>\n",
       "      <td>4.994774</td>\n",
       "      <td>0.329346</td>\n",
       "    </tr>\n",
       "    <tr>\n",
       "      <th>Ceftamin</th>\n",
       "      <td>52.591172</td>\n",
       "      <td>51.776157</td>\n",
       "      <td>39.290177</td>\n",
       "      <td>6.268188</td>\n",
       "      <td>0.469821</td>\n",
       "    </tr>\n",
       "    <tr>\n",
       "      <th>Infubinol</th>\n",
       "      <td>52.884795</td>\n",
       "      <td>51.820584</td>\n",
       "      <td>43.128684</td>\n",
       "      <td>6.567243</td>\n",
       "      <td>0.492236</td>\n",
       "    </tr>\n",
       "    <tr>\n",
       "      <th>Ketapril</th>\n",
       "      <td>55.235638</td>\n",
       "      <td>53.698743</td>\n",
       "      <td>68.553577</td>\n",
       "      <td>8.279709</td>\n",
       "      <td>0.603860</td>\n",
       "    </tr>\n",
       "    <tr>\n",
       "      <th>Naftisol</th>\n",
       "      <td>54.331565</td>\n",
       "      <td>52.509285</td>\n",
       "      <td>66.173479</td>\n",
       "      <td>8.134708</td>\n",
       "      <td>0.596466</td>\n",
       "    </tr>\n",
       "    <tr>\n",
       "      <th>Placebo</th>\n",
       "      <td>54.033581</td>\n",
       "      <td>52.288934</td>\n",
       "      <td>61.168083</td>\n",
       "      <td>7.821003</td>\n",
       "      <td>0.581331</td>\n",
       "    </tr>\n",
       "    <tr>\n",
       "      <th>Propriva</th>\n",
       "      <td>52.320930</td>\n",
       "      <td>50.446266</td>\n",
       "      <td>43.852013</td>\n",
       "      <td>6.622085</td>\n",
       "      <td>0.544332</td>\n",
       "    </tr>\n",
       "    <tr>\n",
       "      <th>Ramicane</th>\n",
       "      <td>40.216745</td>\n",
       "      <td>40.673236</td>\n",
       "      <td>23.486704</td>\n",
       "      <td>4.846308</td>\n",
       "      <td>0.320955</td>\n",
       "    </tr>\n",
       "    <tr>\n",
       "      <th>Stelasyn</th>\n",
       "      <td>54.233149</td>\n",
       "      <td>52.431737</td>\n",
       "      <td>59.450562</td>\n",
       "      <td>7.710419</td>\n",
       "      <td>0.573111</td>\n",
       "    </tr>\n",
       "    <tr>\n",
       "      <th>Zoniferol</th>\n",
       "      <td>53.236507</td>\n",
       "      <td>51.818479</td>\n",
       "      <td>48.533355</td>\n",
       "      <td>6.966589</td>\n",
       "      <td>0.516398</td>\n",
       "    </tr>\n",
       "  </tbody>\n",
       "</table>\n",
       "</div>"
      ],
      "text/plain": [
       "                   Mean     Median   Variance  Standard Deviation       SEM\n",
       "Drug Regimen                                                               \n",
       "Capomulin     40.675741  41.557809  24.947764            4.994774  0.329346\n",
       "Ceftamin      52.591172  51.776157  39.290177            6.268188  0.469821\n",
       "Infubinol     52.884795  51.820584  43.128684            6.567243  0.492236\n",
       "Ketapril      55.235638  53.698743  68.553577            8.279709  0.603860\n",
       "Naftisol      54.331565  52.509285  66.173479            8.134708  0.596466\n",
       "Placebo       54.033581  52.288934  61.168083            7.821003  0.581331\n",
       "Propriva      52.320930  50.446266  43.852013            6.622085  0.544332\n",
       "Ramicane      40.216745  40.673236  23.486704            4.846308  0.320955\n",
       "Stelasyn      54.233149  52.431737  59.450562            7.710419  0.573111\n",
       "Zoniferol     53.236507  51.818479  48.533355            6.966589  0.516398"
      ]
     },
     "execution_count": 7,
     "metadata": {},
     "output_type": "execute_result"
    }
   ],
   "source": [
    "# Generate a summary statistics table of mean, median, variance, standard deviation, and SEM of the tumor volume for each regimen\n",
    "\n",
    "# Use groupby and summary statistical methods to calculate the following properties of each drug regimen: \n",
    "#Capomulin, Ramicane, Infubinol, Ceftamin\n",
    "\n",
    "# mean, median, variance, standard deviation, and SEM of the tumor volume. \n",
    "drug_grp = cleaned_data.groupby('Drug Regimen')\n",
    "drug_grp\n",
    "# Assemble the resulting series into a single summary dataframe.\n",
    "drug_mean = drug_grp[\"Tumor Volume (mm3)\"].mean()\n",
    "drug_median = drug_grp[\"Tumor Volume (mm3)\"].median()\n",
    "drug_var = drug_grp[\"Tumor Volume (mm3)\"].var()\n",
    "drug_std = drug_grp[\"Tumor Volume (mm3)\"].std()\n",
    "drug_sem = drug_grp[\"Tumor Volume (mm3)\"].sem()\n",
    "\n",
    "summary_stats = pd.DataFrame({'Mean': drug_mean, \n",
    "                            'Median': drug_median, \n",
    "                            'Variance': drug_var, \n",
    "                            'Standard Deviation': drug_std, \n",
    "                            'SEM': drug_sem})\n",
    "\n",
    "summary_stats"
   ]
  },
  {
   "cell_type": "code",
   "execution_count": 8,
   "metadata": {},
   "outputs": [
    {
     "data": {
      "text/html": [
       "<div>\n",
       "<style scoped>\n",
       "    .dataframe tbody tr th:only-of-type {\n",
       "        vertical-align: middle;\n",
       "    }\n",
       "\n",
       "    .dataframe tbody tr th {\n",
       "        vertical-align: top;\n",
       "    }\n",
       "\n",
       "    .dataframe thead tr th {\n",
       "        text-align: left;\n",
       "    }\n",
       "\n",
       "    .dataframe thead tr:last-of-type th {\n",
       "        text-align: right;\n",
       "    }\n",
       "</style>\n",
       "<table border=\"1\" class=\"dataframe\">\n",
       "  <thead>\n",
       "    <tr>\n",
       "      <th></th>\n",
       "      <th colspan=\"5\" halign=\"left\">Tumor Volume (mm3)</th>\n",
       "    </tr>\n",
       "    <tr>\n",
       "      <th></th>\n",
       "      <th>mean</th>\n",
       "      <th>median</th>\n",
       "      <th>var</th>\n",
       "      <th>std</th>\n",
       "      <th>sem</th>\n",
       "    </tr>\n",
       "    <tr>\n",
       "      <th>Drug Regimen</th>\n",
       "      <th></th>\n",
       "      <th></th>\n",
       "      <th></th>\n",
       "      <th></th>\n",
       "      <th></th>\n",
       "    </tr>\n",
       "  </thead>\n",
       "  <tbody>\n",
       "    <tr>\n",
       "      <th>Capomulin</th>\n",
       "      <td>40.675741</td>\n",
       "      <td>41.557809</td>\n",
       "      <td>24.947764</td>\n",
       "      <td>4.994774</td>\n",
       "      <td>0.329346</td>\n",
       "    </tr>\n",
       "    <tr>\n",
       "      <th>Ceftamin</th>\n",
       "      <td>52.591172</td>\n",
       "      <td>51.776157</td>\n",
       "      <td>39.290177</td>\n",
       "      <td>6.268188</td>\n",
       "      <td>0.469821</td>\n",
       "    </tr>\n",
       "    <tr>\n",
       "      <th>Infubinol</th>\n",
       "      <td>52.884795</td>\n",
       "      <td>51.820584</td>\n",
       "      <td>43.128684</td>\n",
       "      <td>6.567243</td>\n",
       "      <td>0.492236</td>\n",
       "    </tr>\n",
       "    <tr>\n",
       "      <th>Ketapril</th>\n",
       "      <td>55.235638</td>\n",
       "      <td>53.698743</td>\n",
       "      <td>68.553577</td>\n",
       "      <td>8.279709</td>\n",
       "      <td>0.603860</td>\n",
       "    </tr>\n",
       "    <tr>\n",
       "      <th>Naftisol</th>\n",
       "      <td>54.331565</td>\n",
       "      <td>52.509285</td>\n",
       "      <td>66.173479</td>\n",
       "      <td>8.134708</td>\n",
       "      <td>0.596466</td>\n",
       "    </tr>\n",
       "    <tr>\n",
       "      <th>Placebo</th>\n",
       "      <td>54.033581</td>\n",
       "      <td>52.288934</td>\n",
       "      <td>61.168083</td>\n",
       "      <td>7.821003</td>\n",
       "      <td>0.581331</td>\n",
       "    </tr>\n",
       "    <tr>\n",
       "      <th>Propriva</th>\n",
       "      <td>52.320930</td>\n",
       "      <td>50.446266</td>\n",
       "      <td>43.852013</td>\n",
       "      <td>6.622085</td>\n",
       "      <td>0.544332</td>\n",
       "    </tr>\n",
       "    <tr>\n",
       "      <th>Ramicane</th>\n",
       "      <td>40.216745</td>\n",
       "      <td>40.673236</td>\n",
       "      <td>23.486704</td>\n",
       "      <td>4.846308</td>\n",
       "      <td>0.320955</td>\n",
       "    </tr>\n",
       "    <tr>\n",
       "      <th>Stelasyn</th>\n",
       "      <td>54.233149</td>\n",
       "      <td>52.431737</td>\n",
       "      <td>59.450562</td>\n",
       "      <td>7.710419</td>\n",
       "      <td>0.573111</td>\n",
       "    </tr>\n",
       "    <tr>\n",
       "      <th>Zoniferol</th>\n",
       "      <td>53.236507</td>\n",
       "      <td>51.818479</td>\n",
       "      <td>48.533355</td>\n",
       "      <td>6.966589</td>\n",
       "      <td>0.516398</td>\n",
       "    </tr>\n",
       "  </tbody>\n",
       "</table>\n",
       "</div>"
      ],
      "text/plain": [
       "             Tumor Volume (mm3)                                          \n",
       "                           mean     median        var       std       sem\n",
       "Drug Regimen                                                             \n",
       "Capomulin             40.675741  41.557809  24.947764  4.994774  0.329346\n",
       "Ceftamin              52.591172  51.776157  39.290177  6.268188  0.469821\n",
       "Infubinol             52.884795  51.820584  43.128684  6.567243  0.492236\n",
       "Ketapril              55.235638  53.698743  68.553577  8.279709  0.603860\n",
       "Naftisol              54.331565  52.509285  66.173479  8.134708  0.596466\n",
       "Placebo               54.033581  52.288934  61.168083  7.821003  0.581331\n",
       "Propriva              52.320930  50.446266  43.852013  6.622085  0.544332\n",
       "Ramicane              40.216745  40.673236  23.486704  4.846308  0.320955\n",
       "Stelasyn              54.233149  52.431737  59.450562  7.710419  0.573111\n",
       "Zoniferol             53.236507  51.818479  48.533355  6.966589  0.516398"
      ]
     },
     "execution_count": 8,
     "metadata": {},
     "output_type": "execute_result"
    }
   ],
   "source": [
    "# Generate a summary statistics table of mean, median, variance, standard deviation, and SEM of the tumor volume for each regimen\n",
    "\n",
    "# Using the aggregation method, produce the same summary statistics in a single line\n",
    "#creating a new variable to store summary stats. Grouping the cleaned data by 'Drug Regimen' and then\n",
    "#Using .agg function to apply numpy calculations to the 'Tumor Volume (mm3)' column\n",
    "summary_stats_agg = cleaned_data.groupby('Drug Regimen').agg({'Tumor Volume (mm3)': \n",
    "                                                              ['mean', 'median','var', 'std', 'sem']})\n",
    "summary_stats_agg"
   ]
  },
  {
   "cell_type": "markdown",
   "metadata": {},
   "source": [
    "## Bar and Pie Charts"
   ]
  },
  {
   "cell_type": "code",
   "execution_count": 9,
   "metadata": {},
   "outputs": [
    {
     "data": {
      "text/plain": [
       "Text(0, 0.5, 'Number of timepoints')"
      ]
     },
     "execution_count": 9,
     "metadata": {},
     "output_type": "execute_result"
    },
    {
     "data": {
      "image/png": "[encoded data removed]",
      "text/plain": [
       "<Figure size 432x288 with 1 Axes>"
      ]
     },
     "metadata": {
      "needs_background": "light"
     },
     "output_type": "display_data"
    }
   ],
   "source": [
    "# Generate a bar plot showing the total number of timepoints for all mice tested for each drug regimen using Pandas.\n",
    "#Need to count number of timepoints per drug regimen\n",
    "num_timepoints = drug_grp['Timepoint'].count()\n",
    "num_timepoints\n",
    "\n",
    "num_timepoints.plot(kind = 'bar', \n",
    "                    title = 'Number of timepoints for mice tested for each Drug Regimen')\n",
    "#Add ylabel\n",
    "plt.ylabel('Number of timepoints')"
   ]
  },
  {
   "cell_type": "code",
   "execution_count": 10,
   "metadata": {},
   "outputs": [
    {
     "data": {
      "image/png": "[encoded data removed]",
      "text/plain": [
       "<Figure size 432x288 with 1 Axes>"
      ]
     },
     "metadata": {
      "needs_background": "light"
     },
     "output_type": "display_data"
    }
   ],
   "source": [
    "# Generate a bar plot showing the total number of timepoints for all mice tested for each drug regimen using pyplot.\n",
    "#define X and Y axis variables\n",
    "x_values = num_timepoints.index.values\n",
    "y_values = num_timepoints.values\n",
    "# print(x_values)\n",
    "# print(y_values)\n",
    "\n",
    "plt.bar(x_values, y_values) \n",
    "plt.title(\"Number of timepoints for mice tested for each Drug Regimen\")\n",
    "plt.ylabel(\"Number of Timepoints\")\n",
    "plt.xlabel(\"Drug Regimen\")\n",
    "plt.xticks(x_values, rotation = 90)\n",
    "plt.show()"
   ]
  },
  {
   "cell_type": "code",
   "execution_count": 11,
   "metadata": {},
   "outputs": [
    {
     "data": {
      "text/plain": [
       "<matplotlib.legend.Legend at 0x2231d9feba8>"
      ]
     },
     "execution_count": 11,
     "metadata": {},
     "output_type": "execute_result"
    },
    {
     "data": {
      "image/png": "[encoded data removed]",
      "text/plain": [
       "<Figure size 432x288 with 1 Axes>"
      ]
     },
     "metadata": {},
     "output_type": "display_data"
    }
   ],
   "source": [
    "# Generate a pie plot showing the distribution of female versus male mice using Pandas\n",
    "#Group by sex\n",
    "sex_grp = cleaned_data.groupby('Sex')\n",
    "#Count number of mice by sex\n",
    "sex_count = sex_grp['Sex'].count()\n",
    "sex_count\n",
    "\n",
    "#Create pie chart\n",
    "sex_pie = sex_count.plot(kind = 'pie', y=\"Sex\", title=\"Male vs Female Mice Count\")\n",
    "plt.axis('equal')\n",
    "plt.legend(loc = 'upper right')"
   ]
  },
  {
   "cell_type": "code",
   "execution_count": 12,
   "metadata": {},
   "outputs": [
    {
     "data": {
      "image/png": "[encoded data removed]",
      "text/plain": [
       "<Figure size 432x288 with 1 Axes>"
      ]
     },
     "metadata": {},
     "output_type": "display_data"
    }
   ],
   "source": [
    "# Generate a pie plot showing the distribution of female versus male mice using pyplot\n",
    "#Add a few more variables to assist with the pie plot generation\n",
    "colors = ['salmon', 'lightskyblue']\n",
    "sex_category = sex_count.index.values\n",
    "explode = (0, 0.08)\n",
    "\n",
    "plt.pie(sex_count, explode = explode, labels = sex_category, colors = colors, autopct=\"%1.1f%%\", shadow = True)\n",
    "plt.axis('equal')\n",
    "plt.title('Male vs Female Mice Count')\n",
    "plt.legend(loc = 'upper right')\n",
    "plt.show()\n"
   ]
  },
  {
   "cell_type": "markdown",
   "metadata": {},
   "source": [
    "## Quartiles, Outliers and Boxplots\n",
    "\n",
    "Create a grouped DataFrame that shows the last (greatest) time point for each mouse. Merge this grouped DataFrame with the original cleaned DataFrame.\n",
    "\n",
    "\n",
    "Create a list that holds the treatment names, as well as a second, empty list to hold the tumor volume data.\n",
    "\n",
    "\n",
    "Loop through each drug in the treatment list, locating the rows in the merged DataFrame that correspond to each treatment. Append the resulting final tumor volumes for each drug to the empty list.\n",
    "\n",
    "\n",
    "Determine outliers by using the upper and lower bounds, and then print the results."
   ]
  },
  {
   "cell_type": "code",
   "execution_count": 30,
   "metadata": {},
   "outputs": [
    {
     "data": {
      "text/html": [
       "<div>\n",
       "<style scoped>\n",
       "    .dataframe tbody tr th:only-of-type {\n",
       "        vertical-align: middle;\n",
       "    }\n",
       "\n",
       "    .dataframe tbody tr th {\n",
       "        vertical-align: top;\n",
       "    }\n",
       "\n",
       "    .dataframe thead th {\n",
       "        text-align: right;\n",
       "    }\n",
       "</style>\n",
       "<table border=\"1\" class=\"dataframe\">\n",
       "  <thead>\n",
       "    <tr style=\"text-align: right;\">\n",
       "      <th></th>\n",
       "      <th>Mouse ID</th>\n",
       "      <th>Timepoint</th>\n",
       "      <th>Drug Regimen</th>\n",
       "      <th>Sex</th>\n",
       "      <th>Age_months</th>\n",
       "      <th>Weight (g)</th>\n",
       "      <th>Tumor Volume (mm3)</th>\n",
       "      <th>Metastatic Sites</th>\n",
       "    </tr>\n",
       "  </thead>\n",
       "  <tbody>\n",
       "    <tr>\n",
       "      <th>0</th>\n",
       "      <td>b128</td>\n",
       "      <td>45</td>\n",
       "      <td>Capomulin</td>\n",
       "      <td>Female</td>\n",
       "      <td>9</td>\n",
       "      <td>22</td>\n",
       "      <td>38.982878</td>\n",
       "      <td>2</td>\n",
       "    </tr>\n",
       "    <tr>\n",
       "      <th>1</th>\n",
       "      <td>b742</td>\n",
       "      <td>45</td>\n",
       "      <td>Capomulin</td>\n",
       "      <td>Male</td>\n",
       "      <td>7</td>\n",
       "      <td>21</td>\n",
       "      <td>38.939633</td>\n",
       "      <td>0</td>\n",
       "    </tr>\n",
       "    <tr>\n",
       "      <th>2</th>\n",
       "      <td>f966</td>\n",
       "      <td>20</td>\n",
       "      <td>Capomulin</td>\n",
       "      <td>Male</td>\n",
       "      <td>16</td>\n",
       "      <td>17</td>\n",
       "      <td>30.485985</td>\n",
       "      <td>0</td>\n",
       "    </tr>\n",
       "    <tr>\n",
       "      <th>3</th>\n",
       "      <td>g288</td>\n",
       "      <td>45</td>\n",
       "      <td>Capomulin</td>\n",
       "      <td>Male</td>\n",
       "      <td>3</td>\n",
       "      <td>19</td>\n",
       "      <td>37.074024</td>\n",
       "      <td>1</td>\n",
       "    </tr>\n",
       "    <tr>\n",
       "      <th>4</th>\n",
       "      <td>g316</td>\n",
       "      <td>45</td>\n",
       "      <td>Capomulin</td>\n",
       "      <td>Female</td>\n",
       "      <td>22</td>\n",
       "      <td>22</td>\n",
       "      <td>40.159220</td>\n",
       "      <td>2</td>\n",
       "    </tr>\n",
       "  </tbody>\n",
       "</table>\n",
       "</div>"
      ],
      "text/plain": [
       "  Mouse ID  Timepoint Drug Regimen     Sex  Age_months  Weight (g)  \\\n",
       "0     b128         45    Capomulin  Female           9          22   \n",
       "1     b742         45    Capomulin    Male           7          21   \n",
       "2     f966         20    Capomulin    Male          16          17   \n",
       "3     g288         45    Capomulin    Male           3          19   \n",
       "4     g316         45    Capomulin  Female          22          22   \n",
       "\n",
       "   Tumor Volume (mm3)  Metastatic Sites  \n",
       "0           38.982878                 2  \n",
       "1           38.939633                 0  \n",
       "2           30.485985                 0  \n",
       "3           37.074024                 1  \n",
       "4           40.159220                 2  "
      ]
     },
     "execution_count": 30,
     "metadata": {},
     "output_type": "execute_result"
    }
   ],
   "source": [
    "# Calculate the final tumor volume of each mouse across four of the treatment regimens: \n",
    "# Capomulin, Ramicane, Infubinol, and Ceftamin\n",
    "\n",
    "#create a list that holds the treatment names\n",
    "treatment_name = [\"Capomulin\",\"Ramicane\",\"Infubinol\",\"Ceftamin\"]\n",
    "treatments_df  = pd.DataFrame()\n",
    "\n",
    "for treatment in treatment_name:\n",
    "    row = cleaned_data.loc[cleaned_data[\"Drug Regimen\"] == treatment, :]\n",
    "    treatments_df = treatments_df.append(row)\n",
    "    \n",
    "treatments_df\n",
    "\n",
    "max_timepoint = treatments_df.groupby([\"Drug Regimen\", \"Mouse ID\"]).max()[\"Timepoint\"]\n",
    "\n",
    "# Merge this group df with the original dataframe to get the tumor volume at the last timepoint\n",
    "merged_df = pd.merge(max_timepoint, cleaned_data, on = (\"Mouse ID\", \"Timepoint\"), how = \"left\")\n",
    "\n",
    "pd.set_option('display.max_rows', None)\n",
    "merged_df.head()"
   ]
  },
  {
   "cell_type": "code",
   "execution_count": 14,
   "metadata": {},
   "outputs": [
    {
     "name": "stdout",
     "output_type": "stream",
     "text": [
      " The lower quartile for Capomulin is 32.37735684\n",
      " The upper quartile for Capomulin is 40.1592203\n",
      " The lower bound for Capomulin is 20.70456164999999\n",
      " The upper bound for Capomulin is 51.83201549\n",
      " The IQR for Capomulin is 7.781863460000004\n",
      "There are 0 outliers for Capomulin\n"
     ]
    }
   ],
   "source": [
    "# Calculate the IQR and quantitatively determine if there are any potential outliers. \n",
    "\n",
    "#CAPOMULIN\n",
    "capomulin_df = merged_df.loc[merged_df[\"Drug Regimen\"] == \"Capomulin\",:]\n",
    "# capomulin_df\n",
    "capomulin_quartiles = capomulin_df['Tumor Volume (mm3)'].quantile([.25,.5,.75])\n",
    "capomulin_lowerq = capomulin_quartiles[0.25]\n",
    "capomulin_upperq = capomulin_quartiles[0.75]\n",
    "capomulin_iqr = capomulin_upperq-capomulin_lowerq\n",
    "capomulin_lowerbound = capomulin_lowerq - (1.5*capomulin_iqr)\n",
    "capomulin_upperbound = capomulin_upperq + (1.5*capomulin_iqr) \n",
    "\n",
    "print(f' The lower quartile for Capomulin is {capomulin_lowerq}')\n",
    "print(f' The upper quartile for Capomulin is {capomulin_upperq}')\n",
    "print(f' The lower bound for Capomulin is {capomulin_lowerbound}')\n",
    "print(f' The upper bound for Capomulin is {capomulin_upperbound}')\n",
    "print(f' The IQR for Capomulin is {capomulin_iqr}')\n",
    "    \n",
    "# Determine outliers using upper and lower bounds\n",
    "capomulin_outliers = capomulin_df.loc[(capomulin_df[\"Tumor Volume (mm3)\"] < capomulin_lowerbound) | \n",
    "                                      (capomulin_df[\"Tumor Volume (mm3)\"] > capomulin_upperbound), :]\n",
    "\n",
    "print(f'There are {capomulin_outliers[\"Mouse ID\"].count()} outliers for Capomulin')"
   ]
  },
  {
   "cell_type": "code",
   "execution_count": 15,
   "metadata": {},
   "outputs": [
    {
     "name": "stdout",
     "output_type": "stream",
     "text": [
      " The lower quartile for Ramicane is 31.56046955\n",
      " The upper quartile for Ramicane is 40.65900627\n",
      " The lower bound for Ramicane is 17.912664470000003\n",
      " The upper bound for Ramicane is 54.30681135\n",
      " The IQR for Ramicane is 9.098536719999998\n",
      "There are 0 outliers for Ramicane\n"
     ]
    }
   ],
   "source": [
    "#ramicane\n",
    "ramicane_df = merged_df.loc[merged_df[\"Drug Regimen\"] == \"Ramicane\",:]\n",
    "# ramicane_df\n",
    "ramicane_quartiles = ramicane_df['Tumor Volume (mm3)'].quantile([.25,.5,.75])\n",
    "ramicane_lowerq = ramicane_quartiles[0.25]\n",
    "ramicane_upperq = ramicane_quartiles[0.75]\n",
    "ramicane_iqr = ramicane_upperq-ramicane_lowerq\n",
    "ramicane_lowerbound = ramicane_lowerq - (1.5*ramicane_iqr)\n",
    "ramicane_upperbound = ramicane_upperq + (1.5*ramicane_iqr) \n",
    "\n",
    "print(f' The lower quartile for Ramicane is {ramicane_lowerq}')\n",
    "print(f' The upper quartile for Ramicane is {ramicane_upperq}')\n",
    "print(f' The lower bound for Ramicane is {ramicane_lowerbound}')\n",
    "print(f' The upper bound for Ramicane is {ramicane_upperbound}')\n",
    "print(f' The IQR for Ramicane is {ramicane_iqr}')\n",
    "    \n",
    "# Determine outliers using upper and lower bounds\n",
    "ramicane_outliers = ramicane_df.loc[(ramicane_df[\"Tumor Volume (mm3)\"] < ramicane_lowerbound) | \n",
    "                                      (ramicane_df[\"Tumor Volume (mm3)\"] > ramicane_upperbound), :]\n",
    "\n",
    "print(f'There are {ramicane_outliers[\"Mouse ID\"].count()} outliers for Ramicane')"
   ]
  },
  {
   "cell_type": "code",
   "execution_count": 16,
   "metadata": {},
   "outputs": [
    {
     "name": "stdout",
     "output_type": "stream",
     "text": [
      " The lower quartile for Infubinol is 54.04860769\n",
      " The upper quartile for Infubinol is 65.52574285\n",
      " The lower bound for Infubinol is 36.83290494999999\n",
      " The upper bound for Infubinol is 82.74144559000001\n",
      " The IQR for Infubinol is 11.477135160000003\n",
      "There are 1 outliers for Infubinol\n"
     ]
    }
   ],
   "source": [
    "#Infubinol\n",
    "infubinol_df = merged_df.loc[merged_df[\"Drug Regimen\"] == \"Infubinol\",:]\n",
    "# Infubinol_df\n",
    "infubinol_quartiles = infubinol_df['Tumor Volume (mm3)'].quantile([.25,.5,.75])\n",
    "infubinol_lowerq = infubinol_quartiles[0.25]\n",
    "infubinol_upperq = infubinol_quartiles[0.75]\n",
    "infubinol_iqr = infubinol_upperq-infubinol_lowerq\n",
    "infubinol_lowerbound = infubinol_lowerq - (1.5*infubinol_iqr)\n",
    "infubinol_upperbound = infubinol_upperq + (1.5*infubinol_iqr) \n",
    "\n",
    "print(f' The lower quartile for Infubinol is {infubinol_lowerq}')\n",
    "print(f' The upper quartile for Infubinol is {infubinol_upperq}')\n",
    "print(f' The lower bound for Infubinol is {infubinol_lowerbound}')\n",
    "print(f' The upper bound for Infubinol is {infubinol_upperbound}')\n",
    "print(f' The IQR for Infubinol is {infubinol_iqr}')\n",
    "    \n",
    "# Determine outliers using upper and lower bounds\n",
    "infubinol_outliers = infubinol_df.loc[(infubinol_df[\"Tumor Volume (mm3)\"] < infubinol_lowerbound) | \n",
    "                                      (infubinol_df[\"Tumor Volume (mm3)\"] > infubinol_upperbound), :]\n",
    "\n",
    "print(f'There are {infubinol_outliers[\"Mouse ID\"].count()} outliers for Infubinol')"
   ]
  },
  {
   "cell_type": "code",
   "execution_count": 17,
   "metadata": {},
   "outputs": [
    {
     "name": "stdout",
     "output_type": "stream",
     "text": [
      " The lower quartile for Ceftamin is 48.72207785\n",
      " The upper quartile for Ceftamin is 64.29983003\n",
      " The lower bound for Ceftamin is 25.355449580000002\n",
      " The upper bound for Ceftamin is 87.66645829999999\n",
      " The IQR for Ceftamin is 15.577752179999997\n",
      "There are 0 outliers for Ceftamin\n"
     ]
    }
   ],
   "source": [
    "#ceftamin\n",
    "ceftamin_df = merged_df.loc[merged_df[\"Drug Regimen\"] == \"Ceftamin\",:]\n",
    "# ceftamin_df\n",
    "ceftamin_quartiles = ceftamin_df['Tumor Volume (mm3)'].quantile([.25,.5,.75])\n",
    "ceftamin_lowerq = ceftamin_quartiles[0.25]\n",
    "ceftamin_upperq = ceftamin_quartiles[0.75]\n",
    "ceftamin_iqr = ceftamin_upperq-ceftamin_lowerq\n",
    "ceftamin_lowerbound = ceftamin_lowerq - (1.5*ceftamin_iqr)\n",
    "ceftamin_upperbound = ceftamin_upperq + (1.5*ceftamin_iqr) \n",
    "\n",
    "print(f' The lower quartile for Ceftamin is {ceftamin_lowerq}')\n",
    "print(f' The upper quartile for Ceftamin is {ceftamin_upperq}')\n",
    "print(f' The lower bound for Ceftamin is {ceftamin_lowerbound}')\n",
    "print(f' The upper bound for Ceftamin is {ceftamin_upperbound}')\n",
    "print(f' The IQR for Ceftamin is {ceftamin_iqr}')\n",
    "    \n",
    "# Determine outliers using upper and lower bounds\n",
    "ceftamin_outliers = ceftamin_df.loc[(ceftamin_df[\"Tumor Volume (mm3)\"] < ceftamin_lowerbound) | \n",
    "                                      (ceftamin_df[\"Tumor Volume (mm3)\"] > ceftamin_upperbound), :]\n",
    "\n",
    "print(f'There are {ceftamin_outliers[\"Mouse ID\"].count()} outliers for Ceftamin')"
   ]
  },
  {
   "cell_type": "code",
   "execution_count": 18,
   "metadata": {},
   "outputs": [
    {
     "data": {
      "image/png": "[encoded data removed]",
      "text/plain": [
       "<Figure size 432x288 with 1 Axes>"
      ]
     },
     "metadata": {
      "needs_background": "light"
     },
     "output_type": "display_data"
    }
   ],
   "source": [
    "# Generate a box plot of the final tumor volume of each mouse across four regimens of interest\n",
    "boxplot_data = [capomulin_df['Tumor Volume (mm3)'], \n",
    "                ramicane_df['Tumor Volume (mm3)'], \n",
    "                infubinol_df['Tumor Volume (mm3)'], \n",
    "                ceftamin_df['Tumor Volume (mm3)']]\n",
    "boxplot_data\n",
    "fig1, ax1 = plt.subplots()\n",
    "ax1.set_title(\"Final Tumour Volume for Drug Regimens of Interest\")\n",
    "ax1.set_ylabel(\"Tumour Volume (mm3)\")\n",
    "ax1.set_xlabel(\"Drug Regimen\")\n",
    "ax1.boxplot(boxplot_data, labels = treatment_name, widths = 0.4, vert = True)\n",
    "plt.show()\n"
   ]
  },
  {
   "cell_type": "markdown",
   "metadata": {},
   "source": [
    "## Line and Scatter Plots"
   ]
  },
  {
   "cell_type": "code",
   "execution_count": 26,
   "metadata": {},
   "outputs": [
    {
     "name": "stdout",
     "output_type": "stream",
     "text": [
      "   Mouse ID Drug Regimen     Sex  Age_months  Weight (g)  Timepoint  \\\n",
      "10     s185    Capomulin  Female           3          17          0   \n",
      "11     s185    Capomulin  Female           3          17          5   \n",
      "12     s185    Capomulin  Female           3          17         10   \n",
      "13     s185    Capomulin  Female           3          17         15   \n",
      "14     s185    Capomulin  Female           3          17         20   \n",
      "15     s185    Capomulin  Female           3          17         25   \n",
      "16     s185    Capomulin  Female           3          17         30   \n",
      "17     s185    Capomulin  Female           3          17         35   \n",
      "18     s185    Capomulin  Female           3          17         40   \n",
      "19     s185    Capomulin  Female           3          17         45   \n",
      "\n",
      "    Tumor Volume (mm3)  Metastatic Sites  \n",
      "10           45.000000                 0  \n",
      "11           43.878496                 0  \n",
      "12           37.614948                 0  \n",
      "13           38.177232                 0  \n",
      "14           36.866876                 0  \n",
      "15           33.949940                 0  \n",
      "16           32.959671                 1  \n",
      "17           28.328531                 1  \n",
      "18           25.472143                 1  \n",
      "19           23.343598                 1  \n"
     ]
    },
    {
     "data": {
      "image/png": "[encoded data removed]",
      "text/plain": [
       "<Figure size 432x288 with 1 Axes>"
      ]
     },
     "metadata": {
      "needs_background": "light"
     },
     "output_type": "display_data"
    }
   ],
   "source": [
    "# Generate a line plot of tumor volume vs. time point for a mouse treated with Capomulin\n",
    "#Find a mouse treated with Capomulin\n",
    "cleaned_data.loc[cleaned_data[\"Drug Regimen\"]==\"Capomulin\", :].head()\n",
    "\n",
    "#Using mouse ID s185\n",
    "s185_data = cleaned_data.loc[(cleaned_data[\"Drug Regimen\"] == \"Capomulin\") & (cleaned_data[\"Mouse ID\"] ==\"s185\"),:]\n",
    "print(s185_data)\n",
    "\n",
    "plt.plot(s185_data['Timepoint'], s185_data[\"Tumor Volume (mm3)\"], ls = '--', marker = 'o')\n",
    "plt.title('Tumor Volume over time for Mouse s185')\n",
    "plt.xlabel('Timepoints')\n",
    "plt.ylabel(\"Tumor Volume (mm3)\")\n",
    "plt.xticks(s185_data['Timepoint'])\n",
    "plt.show()"
   ]
  },
  {
   "cell_type": "code",
   "execution_count": 21,
   "metadata": {},
   "outputs": [
    {
     "data": {
      "text/plain": [
       "Text(0.5, 1.0, 'Scatter plot of average mouse tumour volume against weight')"
      ]
     },
     "execution_count": 21,
     "metadata": {},
     "output_type": "execute_result"
    },
    {
     "data": {
      "image/png": "[encoded data removed]",
      "text/plain": [
       "<Figure size 432x288 with 1 Axes>"
      ]
     },
     "metadata": {
      "needs_background": "light"
     },
     "output_type": "display_data"
    }
   ],
   "source": [
    "# Generate a scatter plot of average tumor volume vs. mouse weight for the Capomulin regimen\n",
    "#Using cleaned_data dataframe\n",
    "#Set x and y values. Y values is average tumour volume of each mouse\n",
    "capomulin_data_orig = cleaned_data.loc[cleaned_data['Drug Regimen'] == \"Capomulin\",:]\n",
    "capomulin_data_orig\n",
    "\n",
    "#Find average tumour volume per mouse and put into dataframe\n",
    "cap_scatter_data = capomulin_data_orig.groupby('Mouse ID').mean()\n",
    "\n",
    "x_values = cap_scatter_data['Weight (g)']\n",
    "y_values = cap_scatter_data[\"Tumor Volume (mm3)\"]\n",
    "x_axis = np.arange(14, max(x_values) + 1, 1)\n",
    "\n",
    "plt.scatter(x_values, y_values)\n",
    "plt.ylabel('Average Tumour Volume (mm3)')\n",
    "plt.ylim(32, max(y_values) + 2)\n",
    "plt.xlabel(\"Weight (g)\")\n",
    "plt.xticks(x_axis)\n",
    "plt.title('Scatter plot of average mouse tumour volume against weight')"
   ]
  },
  {
   "cell_type": "markdown",
   "metadata": {},
   "source": [
    "## Correlation and Regression"
   ]
  },
  {
   "cell_type": "code",
   "execution_count": 28,
   "metadata": {},
   "outputs": [
    {
     "data": {
      "image/png": "[encoded data removed]",
      "text/plain": [
       "<Figure size 432x288 with 1 Axes>"
      ]
     },
     "metadata": {
      "needs_background": "light"
     },
     "output_type": "display_data"
    },
    {
     "name": "stdout",
     "output_type": "stream",
     "text": [
      "The correlation between weight and average tumour volume is 0.84\n",
      "The r-squared value is 0.7088568047708717\n"
     ]
    }
   ],
   "source": [
    "# Calculate the correlation coefficient and linear regression model \n",
    "# for mouse weight and average tumor volume for the Capomulin regimen\n",
    "\n",
    "#create regression model\n",
    "(slope, intercept, rvalue, pvalue, stderr) = linregress(x_values, y_values)\n",
    "regress_values = x_values * slope + intercept\n",
    "line_eq = \"y = \" + str(round(slope,2)) + \"x + \" + str(round(intercept,2))\n",
    "\n",
    "#plot regression model\n",
    "plt.scatter(x_values, y_values)\n",
    "plt.plot(x_values, regress_values, 'r-')\n",
    "plt.ylabel('Average Tumour Volume (mm3)')\n",
    "plt.ylim(32, max(y_values) + 2)\n",
    "plt.xlabel(\"Weight (g)\")\n",
    "plt.xticks(x_axis)\n",
    "plt.title('Scatter plot of average mouse tumour volume against weight')\n",
    "plt.annotate(line_eq, (20, 34), fontsize = 15, color = 'red')\n",
    "plt.show()\n",
    "#determine correlation coefficient using Pearsons correlation coefficient\n",
    "correlation = st.pearsonr(x_values, y_values)\n",
    "print(f'The correlation between weight and average tumour volume is {round(correlation[0],2)}')\n",
    "print(f'The r-squared value is {rvalue**2}')"
   ]
  },
  {
   "cell_type": "code",
   "execution_count": null,
   "metadata": {},
   "outputs": [],
   "source": []
  }
 ],
 "metadata": {
  "anaconda-cloud": {},
  "kernelspec": {
   "display_name": "Python 3",
   "language": "python",
   "name": "python3"
  },
  "language_info": {
   "codemirror_mode": {
    "name": "ipython",
    "version": 3
   },
   "file_extension": ".py",
   "mimetype": "text/x-python",
   "name": "python",
   "nbconvert_exporter": "python",
   "pygments_lexer": "ipython3",
   "version": "3.6.10"
  }
 },
 "nbformat": 4,
 "nbformat_minor": 4
}
